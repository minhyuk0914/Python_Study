{
 "cells": [
  {
   "cell_type": "markdown",
   "id": "726cef0d",
   "metadata": {},
   "source": [
    "실습을 위한 데이터셋을 로드합니다."
   ]
  },
  {
   "cell_type": "code",
   "execution_count": null,
   "id": "0a7b42dd",
   "metadata": {},
   "outputs": [],
   "source": [
    "# 샘플 데이터셋 로드\n",
    "import seaborn as sns\n",
    "\n",
    "dataset = sns.load_dataset('titanic')"
   ]
  },
  {
   "cell_type": "markdown",
   "id": "670653d7",
   "metadata": {},
   "source": [
    "## dataprep\n",
    "\n",
    "`dataprep`은 탐색적 데이터 분석(EDA)과 데이터 전처리를 도와주는 라이브러리 입니다.\n",
    "\n",
    "자동으로 완성해주는 HTML 형식의 인터랙티브한 리포트(report)와 편리한 데이터 클린징 도구 때문에 많은 사랑을 받고 있는 대표적인 데이터 전처리 전문 도구 입니다.\n",
    "\n",
    "[링크](https://github.com/sfu-db/dataprep)"
   ]
  },
  {
   "cell_type": "markdown",
   "id": "a45a16fc",
   "metadata": {},
   "source": [
    "설치 방법"
   ]
  },
  {
   "cell_type": "code",
   "execution_count": null,
   "id": "1a0382f9",
   "metadata": {},
   "outputs": [],
   "source": [
    "!pip install dataprep -q"
   ]
  },
  {
   "cell_type": "code",
   "execution_count": null,
   "id": "9a0ba341",
   "metadata": {
    "scrolled": false
   },
   "outputs": [],
   "source": [
    "from dataprep.eda import plot\n",
    "from dataprep.datasets import load_dataset\n",
    "import numpy as np\n",
    "\n",
    "df = load_dataset('adult')\n",
    "plot(df)"
   ]
  },
  {
   "cell_type": "code",
   "execution_count": null,
   "id": "1d177c6e",
   "metadata": {},
   "outputs": [],
   "source": [
    "from dataprep.datasets import load_dataset\n",
    "from dataprep.eda import create_report\n",
    "\n",
    "\n",
    "create_report(dataset).show_browser()"
   ]
  },
  {
   "cell_type": "markdown",
   "id": "3e57437f",
   "metadata": {},
   "source": [
    "## 설치"
   ]
  },
  {
   "cell_type": "code",
   "execution_count": null,
   "id": "74f24bf2",
   "metadata": {},
   "outputs": [],
   "source": [
    "!pip install sweetviz"
   ]
  },
  {
   "cell_type": "markdown",
   "id": "aa4d5259",
   "metadata": {},
   "source": [
    "## 사용법"
   ]
  },
  {
   "cell_type": "code",
   "execution_count": null,
   "id": "68065f9e",
   "metadata": {},
   "outputs": [],
   "source": [
    "# 모듈 import\n",
    "import sweetviz as sv"
   ]
  },
  {
   "cell_type": "code",
   "execution_count": null,
   "id": "d6587d85",
   "metadata": {},
   "outputs": [],
   "source": [
    "report = sv.analyze(dataset)"
   ]
  },
  {
   "cell_type": "code",
   "execution_count": null,
   "id": "4f35bff4",
   "metadata": {},
   "outputs": [],
   "source": [
    "report.show_html('./dataset-report.html')"
   ]
  }
 ],
 "metadata": {
  "kernelspec": {
   "display_name": "Python 3 (ipykernel)",
   "language": "python",
   "name": "python3"
  },
  "language_info": {
   "codemirror_mode": {
    "name": "ipython",
    "version": 3
   },
   "file_extension": ".py",
   "mimetype": "text/x-python",
   "name": "python",
   "nbconvert_exporter": "python",
   "pygments_lexer": "ipython3",
   "version": "3.8.13"
  }
 },
 "nbformat": 4,
 "nbformat_minor": 5
}
