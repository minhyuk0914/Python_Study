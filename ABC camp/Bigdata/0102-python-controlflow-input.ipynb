{
 "cells": [
  {
   "cell_type": "markdown",
   "metadata": {},
   "source": [
    "## 조건문\n",
    "### if\n",
    "* https://docs.python.org/ko/3/tutorial/controlflow.html#if-statements"
   ]
  },
  {
   "cell_type": "code",
   "execution_count": 3,
   "metadata": {},
   "outputs": [
    {
     "name": "stdout",
     "output_type": "stream",
     "text": [
      "Please enter an integer: 0\n",
      "숫자 0\n"
     ]
    }
   ],
   "source": [
    "# 숫자를 입력받아 음수와 양수 여부를 출력합니다.\n",
    "x = int(input(\"Please enter an integer: \"))\n",
    "\n",
    "if x > 0:\n",
    "    print(\"양수\")\n",
    "elif x == 0:\n",
    "    print(\"숫자 0\")\n",
    "else :\n",
    "    print(\"음수\")"
   ]
  },
  {
   "cell_type": "markdown",
   "metadata": {},
   "source": [
    "## 반복문\n",
    "### for\n",
    "* https://docs.python.org/ko/3/tutorial/controlflow.html#for-statements"
   ]
  },
  {
   "cell_type": "code",
   "execution_count": 8,
   "metadata": {},
   "outputs": [
    {
     "name": "stdout",
     "output_type": "stream",
     "text": [
      "월, 화, 수, 목, 금, 토, 일, "
     ]
    },
    {
     "data": {
      "text/plain": [
       "['월', '화', '수', '목', '금', '토', '일']"
      ]
     },
     "execution_count": 8,
     "metadata": {},
     "output_type": "execute_result"
    }
   ],
   "source": [
    "# \"월화수목금토일\" 을 리스트 형태로 변경합니다.\n",
    "weekday = []\n",
    "for w in \"월화수목금토일\":\n",
    "    weekday.append(w)\n",
    "    print(w, end=\", \")\n",
    "\n",
    "weekday"
   ]
  },
  {
   "cell_type": "code",
   "execution_count": 9,
   "metadata": {},
   "outputs": [
    {
     "name": "stdout",
     "output_type": "stream",
     "text": [
      "월\n",
      "화\n",
      "수\n",
      "목\n",
      "금\n",
      "토\n",
      "일\n"
     ]
    }
   ],
   "source": [
    "# 리스트 안에 있는 값을 순회하며 반복문으로 출력해 보세요.\n",
    "weekday = ['월', '화', '수', '목', '금', '토', '일']\n",
    "for i in weekday:\n",
    "    print(i)"
   ]
  },
  {
   "cell_type": "markdown",
   "metadata": {},
   "source": [
    "### range() 함수\n",
    "* https://docs.python.org/ko/3/tutorial/controlflow.html#the-range-function\n",
    "\n",
    "* range([초기치, ]최종치[, 증가치]) => [ ]안의 내용은 생략이 가능합니다.  \n",
    "* 초기치를 생략하면 0이, 증가치를 생략하면 1이 기본값으로 사용됩니다.\n",
    "* range()함수는 초기치, 최종치, 증가치에 따른 숫자 리스트를 만들어 줍니다.  \n",
    "* range(0, 10, 1) == range(10)입니다."
   ]
  },
  {
   "cell_type": "code",
   "execution_count": 10,
   "metadata": {},
   "outputs": [
    {
     "data": {
      "text/plain": [
       "[0, 1, 2, 3, 4]"
      ]
     },
     "execution_count": 10,
     "metadata": {},
     "output_type": "execute_result"
    }
   ],
   "source": [
    "# range로 범위를 지정해 반복문을 수행할 수 있습니다.\n",
    "list(range(5))"
   ]
  },
  {
   "cell_type": "code",
   "execution_count": 13,
   "metadata": {},
   "outputs": [
    {
     "data": {
      "text/plain": [
       "'11'"
      ]
     },
     "execution_count": 13,
     "metadata": {},
     "output_type": "execute_result"
    }
   ],
   "source": [
    "\"1\" + str(1)"
   ]
  },
  {
   "cell_type": "code",
   "execution_count": 15,
   "metadata": {},
   "outputs": [
    {
     "data": {
      "text/plain": [
       "'?page=1'"
      ]
     },
     "execution_count": 15,
     "metadata": {},
     "output_type": "execute_result"
    }
   ],
   "source": [
    "a = 1 \n",
    "f\"?page={a}\""
   ]
  },
  {
   "cell_type": "code",
   "execution_count": 17,
   "metadata": {},
   "outputs": [
    {
     "name": "stdout",
     "output_type": "stream",
     "text": [
      "https://naver.com/?page=1\n",
      "https://naver.com/?page=2\n",
      "https://naver.com/?page=3\n",
      "https://naver.com/?page=4\n",
      "https://naver.com/?page=5\n"
     ]
    }
   ],
   "source": [
    "# f-string 을 사용하여 특정 URL 페이지를 만들어 볼 수 있습니다.\n",
    "# 예) https://naver.com/?page=1\n",
    "for num in range(1,6):\n",
    "    print(f\"https://naver.com/?page={num}\")"
   ]
  },
  {
   "cell_type": "code",
   "execution_count": 18,
   "metadata": {},
   "outputs": [
    {
     "name": "stdout",
     "output_type": "stream",
     "text": [
      "0 월\n",
      "1 화\n",
      "2 수\n",
      "3 목\n",
      "4 금\n",
      "5 토\n",
      "6 일\n"
     ]
    }
   ],
   "source": [
    "# 리스트를 변수로 받아 순회할 수도 있지만 리스트의 길이만큼 range 값을 생성하여 순회할 수도 있습니다.\n",
    "for i in range(len(weekday)):\n",
    "    print(i, weekday[i])"
   ]
  },
  {
   "cell_type": "code",
   "execution_count": 20,
   "metadata": {},
   "outputs": [
    {
     "name": "stdout",
     "output_type": "stream",
     "text": [
      "0 월\n",
      "1 화\n",
      "2 수\n",
      "3 목\n",
      "4 금\n",
      "5 토\n",
      "6 일\n"
     ]
    }
   ],
   "source": [
    "# enumerate 를 사용하면 인덱스 번호와 값을 함께 가져올 수 있습니다.\n",
    "for i, val in enumerate(weekday):\n",
    "    print(i, val)"
   ]
  },
  {
   "cell_type": "markdown",
   "metadata": {},
   "source": [
    "### 조건문과 반복문 함께 사용하기"
   ]
  },
  {
   "cell_type": "code",
   "execution_count": 21,
   "metadata": {},
   "outputs": [
    {
     "name": "stdout",
     "output_type": "stream",
     "text": [
      "1 홀수\n",
      "2 짝수\n",
      "3 홀수\n",
      "4 짝수\n",
      "5 홀수\n",
      "6 짝수\n",
      "7 홀수\n",
      "8 짝수\n",
      "9 홀수\n",
      "10 짝수\n"
     ]
    }
   ],
   "source": [
    "# range로 값을 순회하며 짝수일 때는 \"짝수\"를 홀수일 때는 \"홀수\"를 출력하게 합니다.\n",
    "for i in range(1,11):\n",
    "    if i % 2 == 0:\n",
    "        print(i, \"짝수\")\n",
    "    else:\n",
    "        print(i, \"홀수\")"
   ]
  },
  {
   "cell_type": "markdown",
   "metadata": {},
   "source": [
    "### while 문\n",
    "* 조건문이 참인 동안 순회하며 실행되기 때문에 특정 조건까지 반복문을 수행하고자 할때 사용합니다.\n",
    "* 예를 들어 특정 웹페이지를 순회한다면 내용이 없을 때까지 순회하라는 반복문을 구현할 수 있습니다."
   ]
  },
  {
   "cell_type": "code",
   "execution_count": 22,
   "metadata": {},
   "outputs": [
    {
     "name": "stdout",
     "output_type": "stream",
     "text": [
      "1\n",
      "2\n",
      "3\n",
      "4\n",
      "5\n"
     ]
    }
   ],
   "source": [
    "# 변수의 초깃값을 부여하고 특정 변수값이 되면 종료하도록 합니다.\n",
    "i = 0\n",
    "while True:\n",
    "    i += 1\n",
    "    print(i)\n",
    "    if i >= 5:\n",
    "        break"
   ]
  },
  {
   "cell_type": "markdown",
   "metadata": {},
   "source": [
    "## 함수\n",
    "* https://docs.python.org/ko/3/tutorial/controlflow.html#defining-functions"
   ]
  },
  {
   "cell_type": "code",
   "execution_count": 25,
   "metadata": {},
   "outputs": [],
   "source": [
    "# split_phone 이름을 갖는 전화번호 국번을 반환하는 함수를 만듭니다.\n",
    "num = \"02-321-1234\""
   ]
  },
  {
   "cell_type": "code",
   "execution_count": 27,
   "metadata": {},
   "outputs": [
    {
     "data": {
      "text/plain": [
       "'02-321-1234'"
      ]
     },
     "execution_count": 27,
     "metadata": {},
     "output_type": "execute_result"
    }
   ],
   "source": [
    "def split_phone_num(num):\n",
    "    return num.split(\"=\")[0]\n",
    "\n",
    "split_phone_num(num)"
   ]
  },
  {
   "cell_type": "code",
   "execution_count": 34,
   "metadata": {},
   "outputs": [],
   "source": [
    "# 문자열 전처리로 월을 반환하는 함수 만들기\n",
    "date = \"2022년 08월 22일\"\n"
   ]
  },
  {
   "cell_type": "code",
   "execution_count": 36,
   "metadata": {},
   "outputs": [
    {
     "data": {
      "text/plain": [
       "'08'"
      ]
     },
     "execution_count": 36,
     "metadata": {},
     "output_type": "execute_result"
    }
   ],
   "source": [
    "# 함수명 find_month \n",
    "def find_month(date):\n",
    "    return date.split(\" \")[1].replace(\"월\",\"\")\n",
    "\n",
    "find_month(date)"
   ]
  },
  {
   "cell_type": "markdown",
   "metadata": {},
   "source": [
    "## 함수의 도움말 보기"
   ]
  },
  {
   "cell_type": "code",
   "execution_count": 37,
   "metadata": {},
   "outputs": [],
   "source": [
    "# split_phone?\n",
    "find_month?"
   ]
  },
  {
   "cell_type": "code",
   "execution_count": 38,
   "metadata": {},
   "outputs": [],
   "source": [
    "# split_phone??\n",
    "find_month??"
   ]
  },
  {
   "cell_type": "markdown",
   "metadata": {},
   "source": [
    "## 응용1\n",
    "* http://data.seoul.go.kr/dataList/OA-15248/F/1/datasetView.do\n",
    "* 월별 대여현황에서 연령대는 코드로 제공됩니다. 해당 코드를 값과 매핑하기 위해 딕셔너리 형태로 가공해 보는 연습을 합니다."
   ]
  },
  {
   "cell_type": "code",
   "execution_count": 39,
   "metadata": {},
   "outputs": [
    {
     "data": {
      "text/plain": [
       "'\\n10대 : AGE_001\\n20대 : AGE_002\\n30대 : AGE_003\\n40대 : AGE_004\\n50대 : AGE_005\\n60대 : AGE_006\\n70대 : AGE_007\\n기타 : AGE_008\\n( 비회원, 외국인, 그 이상 등 )'"
      ]
     },
     "execution_count": 39,
     "metadata": {},
     "output_type": "execute_result"
    }
   ],
   "source": [
    "age_code = \"\"\"\n",
    "10대 : AGE_001\n",
    "20대 : AGE_002\n",
    "30대 : AGE_003\n",
    "40대 : AGE_004\n",
    "50대 : AGE_005\n",
    "60대 : AGE_006\n",
    "70대 : AGE_007\n",
    "기타 : AGE_008\n",
    "( 비회원, 외국인, 그 이상 등 )\"\"\"\n",
    "age_code"
   ]
  },
  {
   "cell_type": "code",
   "execution_count": 41,
   "metadata": {},
   "outputs": [
    {
     "data": {
      "text/plain": [
       "{'Age_001': '10대'}"
      ]
     },
     "execution_count": 41,
     "metadata": {},
     "output_type": "execute_result"
    }
   ],
   "source": [
    "age_dict = {}\n",
    "age_dict[\"Age_001\"] = \"10대\"\n",
    "age_dict"
   ]
  },
  {
   "cell_type": "code",
   "execution_count": 97,
   "metadata": {},
   "outputs": [
    {
     "data": {
      "text/plain": [
       "{'AGE_001': '10대',\n",
       " 'AGE_002': '20대',\n",
       " 'AGE_003': '30대',\n",
       " 'AGE_004': '40대',\n",
       " 'AGE_005': '50대',\n",
       " 'AGE_006': '60대',\n",
       " 'AGE_007': '70대',\n",
       " 'AGE_008': '기타'}"
      ]
     },
     "execution_count": 97,
     "metadata": {},
     "output_type": "execute_result"
    }
   ],
   "source": [
    "age_dict = {}\n",
    "for age in age_code.split(\"\\n\")[1:9]:\n",
    "    age_dict[age.split(\" : \")[1]] = age.split(\" : \")[0]\n",
    "\n",
    "age_dict"
   ]
  },
  {
   "cell_type": "code",
   "execution_count": 100,
   "metadata": {
    "scrolled": true
   },
   "outputs": [
    {
     "data": {
      "text/plain": [
       "{'AGE_001': '10대',\n",
       " 'AGE_002': '20대',\n",
       " 'AGE_003': '30대',\n",
       " 'AGE_004': '40대',\n",
       " 'AGE_005': '50대',\n",
       " 'AGE_006': '60대',\n",
       " 'AGE_007': '70대',\n",
       " 'AGE_008': '기타'}"
      ]
     },
     "execution_count": 100,
     "metadata": {},
     "output_type": "execute_result"
    }
   ],
   "source": [
    "age_dict = {}\n",
    "for age in age_code.split(\"\\n\"):\n",
    "    age_split = age.split(\":\")\n",
    "    if len(age_split) == 2:\n",
    "        key = age_split[1].strip()\n",
    "        val = age_split[0].strip()\n",
    "        age_dict[key] = val\n",
    "\n",
    "age_dict"
   ]
  },
  {
   "cell_type": "code",
   "execution_count": null,
   "metadata": {},
   "outputs": [],
   "source": []
  },
  {
   "cell_type": "markdown",
   "metadata": {},
   "source": [
    "## 응용2 - 딕셔너리의 결과가 아래와 같이 나오도록 아래의 문자열을 변경해 보세요.\n",
    "```\n",
    "{'경기': '031',\n",
    "'강원': '033',\n",
    "'충남': '041',\n",
    "'충북': '043',\n",
    "'경북': '054',\n",
    "'경남': '055',\n",
    "'전남': '061',\n",
    "'전북': '063'}\n",
    "```"
   ]
  },
  {
   "cell_type": "code",
   "execution_count": 1,
   "metadata": {},
   "outputs": [
    {
     "data": {
      "text/plain": [
       "['',\n",
       " '경기 031 ',\n",
       " '강원 033 ',\n",
       " '충남 041 ',\n",
       " '충북 043 ',\n",
       " '경북 054 ',\n",
       " '경남 055 ',\n",
       " '전남 061 ',\n",
       " '전북 063']"
      ]
     },
     "execution_count": 1,
     "metadata": {},
     "output_type": "execute_result"
    }
   ],
   "source": [
    "# 아래의 문자를 딕셔너리 형태로 변경하기\n",
    "phone = \">경기 031 >강원 033 >충남 041 >충북 043 >경북 054 >경남 055 >전남 061 >전북 063\"\n",
    "# \">\" 문자를 기준으로 문자열을 나눕니다. => split() 으로 리스트로 변환\n",
    "# for문으로 리스트를 반복해서 phone_dict 에 채웁니다.\n",
    "phone.split(\">\")"
   ]
  },
  {
   "cell_type": "code",
   "execution_count": 7,
   "metadata": {},
   "outputs": [
    {
     "data": {
      "text/plain": [
       "{'경기': '031',\n",
       " '강원': '033',\n",
       " '충남': '041',\n",
       " '충북': '043',\n",
       " '경북': '054',\n",
       " '경남': '055',\n",
       " '전남': '061',\n",
       " '전북': '063'}"
      ]
     },
     "execution_count": 7,
     "metadata": {},
     "output_type": "execute_result"
    }
   ],
   "source": [
    "phone_dict = {}\n",
    "for phone_split in phone.split(\">\")[1:]:\n",
    "    ps = phone_split.split()\n",
    "    if len(ps) == 2:\n",
    "        key = ps[0]\n",
    "        val = ps[1]\n",
    "        phone_dict[key] = val\n",
    "        \n",
    "phone_dict"
   ]
  },
  {
   "cell_type": "code",
   "execution_count": null,
   "metadata": {},
   "outputs": [],
   "source": []
  },
  {
   "cell_type": "code",
   "execution_count": null,
   "metadata": {},
   "outputs": [],
   "source": []
  }
 ],
 "metadata": {
  "colab": {
   "collapsed_sections": [
    "thxfIvC6u4Ga",
    "tMKs81M3sQ9e",
    "uQ0VMYAbu4Gi",
    "ZYBqz3-MsQ94",
    "-mqoFD_Bu4Gv",
    "x4H0bcnisQ-F",
    "Axqztu27sQ-N",
    "Cc2lnQWmsQ-U",
    "AAv0qz8gsQ-o",
    "uzFfT5GTu4Js"
   ],
   "provenance": []
  },
  "kernelspec": {
   "display_name": "Python 3 (ipykernel)",
   "language": "python",
   "name": "python3"
  },
  "language_info": {
   "codemirror_mode": {
    "name": "ipython",
    "version": 3
   },
   "file_extension": ".py",
   "mimetype": "text/x-python",
   "name": "python",
   "nbconvert_exporter": "python",
   "pygments_lexer": "ipython3",
   "version": "3.9.7"
  },
  "toc": {
   "base_numbering": 1,
   "nav_menu": {},
   "number_sections": true,
   "sideBar": true,
   "skip_h1_title": false,
   "title_cell": "Table of Contents",
   "title_sidebar": "Contents",
   "toc_cell": false,
   "toc_position": {},
   "toc_section_display": true,
   "toc_window_display": true
  },
  "varInspector": {
   "cols": {
    "lenName": 16,
    "lenType": 16,
    "lenVar": 40
   },
   "kernels_config": {
    "python": {
     "delete_cmd_postfix": "",
     "delete_cmd_prefix": "del ",
     "library": "var_list.py",
     "varRefreshCmd": "print(var_dic_list())"
    },
    "r": {
     "delete_cmd_postfix": ") ",
     "delete_cmd_prefix": "rm(",
     "library": "var_list.r",
     "varRefreshCmd": "cat(var_dic_list()) "
    }
   },
   "types_to_exclude": [
    "module",
    "function",
    "builtin_function_or_method",
    "instance",
    "_Feature"
   ],
   "window_display": false
  }
 },
 "nbformat": 4,
 "nbformat_minor": 1
}
