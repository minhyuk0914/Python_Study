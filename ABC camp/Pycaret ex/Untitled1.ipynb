{
 "cells": [
  {
   "cell_type": "markdown",
   "id": "ab568c21",
   "metadata": {},
   "source": [
    "# PyCaret 설치\n"
   ]
  },
  {
   "cell_type": "code",
   "execution_count": null,
   "id": "0e00b55d",
   "metadata": {},
   "outputs": [],
   "source": [
    "# pip install --pre pycaret\n",
    "!pip install -U pycaret -q"
   ]
  },
  {
   "cell_type": "markdown",
   "id": "079d1089",
   "metadata": {},
   "source": [
    "Google Colab 사용자의 경우 다음의 코드를 실행합니다"
   ]
  },
  {
   "cell_type": "code",
   "execution_count": 2,
   "id": "cd6f7808",
   "metadata": {
    "scrolled": true
   },
   "outputs": [
    {
     "ename": "ModuleNotFoundError",
     "evalue": "No module named 'pycaret'",
     "output_type": "error",
     "traceback": [
      "\u001b[1;31m---------------------------------------------------------------------------\u001b[0m",
      "\u001b[1;31mModuleNotFoundError\u001b[0m                       Traceback (most recent call last)",
      "Input \u001b[1;32mIn [2]\u001b[0m, in \u001b[0;36m<cell line: 1>\u001b[1;34m()\u001b[0m\n\u001b[1;32m----> 1\u001b[0m \u001b[38;5;28;01mfrom\u001b[39;00m \u001b[38;5;21;01mpycaret\u001b[39;00m\u001b[38;5;21;01m.\u001b[39;00m\u001b[38;5;21;01mutils\u001b[39;00m \u001b[38;5;28;01mimport\u001b[39;00m enable_colab\n\u001b[0;32m      3\u001b[0m enable_colab()\n",
      "\u001b[1;31mModuleNotFoundError\u001b[0m: No module named 'pycaret'"
     ]
    }
   ],
   "source": [
    "from pycaret.utils import enable_colab\n",
    "\n",
    "enable_colab()"
   ]
  },
  {
   "cell_type": "markdown",
   "id": "94174feb",
   "metadata": {},
   "source": [
    "# 분류 Classification\n",
    "분류 모델은 정답 값(label)에 대하여 클래스(class)가 존재하면 개별 데이터를 특정 클래스로 분류할 수 있는 모델입니다.\n",
    "\n",
    "(예시) 암/정상 환자 분류, 스팸/햄 메일 분류\n",
    "\n"
   ]
  },
  {
   "cell_type": "markdown",
   "id": "41a37b06",
   "metadata": {},
   "source": [
    "# 필요한 모듈 import"
   ]
  },
  {
   "cell_type": "code",
   "execution_count": null,
   "id": "d3e727ee",
   "metadata": {},
   "outputs": [],
   "source": [
    "import pandas as pd\n",
    "import numpy as np\n",
    "import seaborn as sns\n",
    "\n",
    "pd.options.display.max_columns = None"
   ]
  },
  {
   "cell_type": "markdown",
   "id": "89145289",
   "metadata": {},
   "source": [
    "# 실습을 위한 데이터셋 로드\n"
   ]
  },
  {
   "cell_type": "code",
   "execution_count": null,
   "id": "d4bf4f25",
   "metadata": {},
   "outputs": [],
   "source": [
    "from IPython.display import Image\n",
    "\n",
    "Image('https://static1.squarespace.com/static/5006453fe4b09ef2252ba068/t/5090b249e4b047ba54dfd258/1351660113175/TItanic-Survival-Infographic.jpg')"
   ]
  },
  {
   "cell_type": "markdown",
   "id": "1417fee7",
   "metadata": {},
   "source": [
    "건조 당시 세계 최대의 여객선이었지만,1912년의 최초이자 최후의 항해 때 빙산과 충돌해 침몰한 비운의 여객선. 아마도 세상에서 가장 유명한 여객선이자 침몰선일 것입니다.\n",
    "\n",
    "침몰한 지 100년이 넘었지만 아직까지 세계에서 가장 유명한 침몰선입니다.\n",
    "\n",
    "사망자 수는 1위는 아니지만, 세계적으로 유명한 영화의 영향도 있고, 당시 최첨단 기술에 대해 기대감이 컸던 사회에 큰 영향을 끼치기도 한데다가, 근대 사회에서 들어서자마자 얼마 안된, 그리고 유명인사들이 여럿 희생된 대참사이기 때문에 가장 유명한 침몰선이 되었습니다. 또한 이 사건을 기점으로 여러가지 안전 조약들이 생겨났으니 더더욱 그렇습니다."
   ]
  },
  {
   "cell_type": "code",
   "execution_count": null,
   "id": "b2f6a189",
   "metadata": {},
   "outputs": [],
   "source": [
    "dataset = sns.load_dataset('titanic')\n",
    "dataset.head()\n"
   ]
  },
  {
   "cell_type": "code",
   "execution_count": null,
   "id": "cf87f323",
   "metadata": {},
   "outputs": [],
   "source": [
    "# 데이터셋 크기 출력\n",
    "dataset.shape"
   ]
  },
  {
   "cell_type": "markdown",
   "id": "0849bdf1",
   "metadata": {},
   "source": [
    "# 컬럼 설명\n",
    "survivied: 생존여부 (1: 생존, 0: 사망)\n",
    "\n",
    "pclass: 좌석 등급 (1등급, 2등급, 3등급)\n",
    "\n",
    "sex: 성별\n",
    "\n",
    "age: 나이\n",
    "\n",
    "sibsp: 형제 + 배우자 수\n",
    "\n",
    "parch: 부모 + 자녀 수\n",
    "\n",
    "fare: 좌석 요금\n",
    "\n",
    "embarked: 탑승 항구 (S, C, Q)\n",
    "\n",
    "\n",
    "class: pclass와 동일\n",
    "\n",
    "who: 성인남자(man), 성인여자(woman), 어린아이(child)\n",
    "\n",
    "adult_male: 성인 남자 여부\n",
    "\n",
    "deck: 데크 번호 (알파벳 + 숫자 혼용)\n",
    "\n",
    "embark_town: 탑승 항구 이름\n",
    "\n",
    "alive: 생존여부 (yes, no)\n",
    "\n",
    "alone: 혼자 탑승 여부"
   ]
  },
  {
   "cell_type": "markdown",
   "id": "336fd465",
   "metadata": {},
   "source": [
    "# PyCaret의 큰 구조\n",
    "https://pycaret.gitbook.io/docs/get-started/functions\n",
    "\n",
    "STEP1: initialize\n",
    "\n",
    "STEP2: train\n",
    "\n",
    "STEP3: optimize\n",
    "\n",
    "STEP4: analyze\n",
    "\n",
    "STEP5: deploy"
   ]
  }
 ],
 "metadata": {
  "kernelspec": {
   "display_name": "Python 3 (ipykernel)",
   "language": "python",
   "name": "python3"
  },
  "language_info": {
   "codemirror_mode": {
    "name": "ipython",
    "version": 3
   },
   "file_extension": ".py",
   "mimetype": "text/x-python",
   "name": "python",
   "nbconvert_exporter": "python",
   "pygments_lexer": "ipython3",
   "version": "3.9.7"
  }
 },
 "nbformat": 4,
 "nbformat_minor": 5
}
