{
 "cells": [
  {
   "cell_type": "code",
   "execution_count": null,
   "id": "af0d1ffc",
   "metadata": {},
   "outputs": [],
   "source": [
    "# pip install --pre pycaret\n",
    "!pip install -U pycaret -q"
   ]
  },
  {
   "cell_type": "markdown",
   "id": "b8ab0565",
   "metadata": {},
   "source": [
    "Google Colab 사용자의 경우 다음의 코드를 실행합니다."
   ]
  },
  {
   "cell_type": "code",
   "execution_count": null,
   "id": "f6e4a06d",
   "metadata": {},
   "outputs": [],
   "source": [
    "from pycaret.utils import enable_colab\n",
    "\n",
    "enable_colab()"
   ]
  },
  {
   "cell_type": "markdown",
   "id": "03d49826",
   "metadata": {},
   "source": [
    "샘플 데이터셋 로드\n"
   ]
  },
  {
   "cell_type": "code",
   "execution_count": null,
   "id": "e3de624c",
   "metadata": {},
   "outputs": [],
   "source": [
    "from pycaret.datasets import get_data\n",
    "\n",
    "dataset = get_data('juice')"
   ]
  }
 ],
 "metadata": {
  "kernelspec": {
   "display_name": "Python 3 (ipykernel)",
   "language": "python",
   "name": "python3"
  },
  "language_info": {
   "codemirror_mode": {
    "name": "ipython",
    "version": 3
   },
   "file_extension": ".py",
   "mimetype": "text/x-python",
   "name": "python",
   "nbconvert_exporter": "python",
   "pygments_lexer": "ipython3",
   "version": "3.9.7"
  }
 },
 "nbformat": 4,
 "nbformat_minor": 5
}
